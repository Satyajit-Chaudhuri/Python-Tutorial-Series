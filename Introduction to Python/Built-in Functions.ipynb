{
 "cells": [
  {
   "cell_type": "markdown",
   "id": "8b936f1f",
   "metadata": {},
   "source": [
    "## Arithmetic operations on string:\n",
    "\n",
    "   * Addition\n",
    "   * Multiplication"
   ]
  },
  {
   "cell_type": "code",
   "execution_count": 14,
   "id": "d5b7bb21",
   "metadata": {},
   "outputs": [
    {
     "data": {
      "text/plain": [
       "'222'"
      ]
     },
     "execution_count": 14,
     "metadata": {},
     "output_type": "execute_result"
    }
   ],
   "source": [
    "\"2\" + \"3\"\n",
    "\"2\" * 3"
   ]
  },
  {
   "cell_type": "markdown",
   "id": "1254390c",
   "metadata": {},
   "source": [
    "## Built-in functions in python"
   ]
  },
  {
   "cell_type": "markdown",
   "id": "560258c3",
   "metadata": {},
   "source": [
    "#### `print()` funtion: It is used to print a value(number,string,etc.) to the output terminal/shell"
   ]
  },
  {
   "cell_type": "code",
   "execution_count": 16,
   "id": "93f36f02",
   "metadata": {},
   "outputs": [
    {
     "name": "stdout",
     "output_type": "stream",
     "text": [
      "23\n",
      "222\n"
     ]
    }
   ],
   "source": [
    "print(\"2\" + \"3\")\n",
    "print(\"2\"*3)"
   ]
  },
  {
   "cell_type": "markdown",
   "id": "d421c2fc",
   "metadata": {},
   "source": [
    "#### `len()` funtion: It is used to calculate the length of a sting or number of characters"
   ]
  },
  {
   "cell_type": "code",
   "execution_count": 17,
   "id": "fa2d3bd4",
   "metadata": {},
   "outputs": [
    {
     "data": {
      "text/plain": [
       "6"
      ]
     },
     "execution_count": 17,
     "metadata": {},
     "output_type": "execute_result"
    }
   ],
   "source": [
    "len(\"Sample\")"
   ]
  },
  {
   "cell_type": "markdown",
   "id": "f25519fd",
   "metadata": {},
   "source": [
    "#### `abs()` function: It returns the absoulte value/ modulus of a number"
   ]
  },
  {
   "cell_type": "code",
   "execution_count": 18,
   "id": "d8074ac7",
   "metadata": {},
   "outputs": [
    {
     "name": "stdout",
     "output_type": "stream",
     "text": [
      "19\n"
     ]
    }
   ],
   "source": [
    "print(abs(19))"
   ]
  },
  {
   "cell_type": "code",
   "execution_count": 19,
   "id": "10d271ab",
   "metadata": {},
   "outputs": [
    {
     "name": "stdout",
     "output_type": "stream",
     "text": [
      "19\n"
     ]
    }
   ],
   "source": [
    "print(abs(-19))"
   ]
  },
  {
   "cell_type": "markdown",
   "id": "86f12505",
   "metadata": {},
   "source": [
    "#### `type()` function: It returns the type of value/variable passed in the argument"
   ]
  },
  {
   "cell_type": "code",
   "execution_count": 24,
   "id": "27ae6c8b",
   "metadata": {},
   "outputs": [
    {
     "name": "stdout",
     "output_type": "stream",
     "text": [
      "<class 'int'>\n",
      "<class 'str'>\n",
      "<class 'float'>\n",
      "<class 'bool'>\n",
      "<class 'bool'>\n"
     ]
    }
   ],
   "source": [
    "print(type(2))\n",
    "print(type(\"Football\"))\n",
    "print(type(2.34))\n",
    "print(type(True))\n",
    "print(type(False))"
   ]
  },
  {
   "cell_type": "markdown",
   "id": "3654b741",
   "metadata": {},
   "source": [
    "#### Different data types in python:\n",
    "\n",
    "| Sample Value | Type  |\n",
    "| :- | :-  |\n",
    "| 236     |int  |\n",
    "| \"Saturday\" |str  |\n",
    "| 23.6    |   float|\n",
    "| True    |   bool |"
   ]
  },
  {
   "cell_type": "markdown",
   "id": "ab870432",
   "metadata": {},
   "source": [
    "#### `round()`  function: It returns the nearest integer value wrt the argument passed in the function"
   ]
  },
  {
   "cell_type": "code",
   "execution_count": 27,
   "id": "ec983d9a",
   "metadata": {},
   "outputs": [
    {
     "name": "stdout",
     "output_type": "stream",
     "text": [
      "20\n",
      "19\n"
     ]
    }
   ],
   "source": [
    "print(round(19.6))\n",
    "print(round(19.4))"
   ]
  },
  {
   "cell_type": "markdown",
   "id": "7853864e",
   "metadata": {},
   "source": [
    "#### `max()` function: It returns the maximum of all the values passed in the argument. A minimum of two arguments(except for string) is required for this function. We can also pass string in the arguments and it will return the last value sorted in alphabetic manner\n",
    "\n",
    "#### `min()` function: It returns the minimum of all the values passed in the argument. A minimum of two arguments(except for string) is required for this function. We can also pass string in the arguments and it will return the first value sorted in alphabetic manner"
   ]
  },
  {
   "cell_type": "code",
   "execution_count": 30,
   "id": "5b1c1561",
   "metadata": {},
   "outputs": [
    {
     "name": "stdout",
     "output_type": "stream",
     "text": [
      "5\n",
      "C\n",
      "xyz\n"
     ]
    }
   ],
   "source": [
    "print(max(3,1,5))\n",
    "print(max(\"ABC\"))\n",
    "print(max(\"abc\",\"xyz\"))"
   ]
  },
  {
   "cell_type": "code",
   "execution_count": 34,
   "id": "fb65a205",
   "metadata": {},
   "outputs": [
    {
     "name": "stdout",
     "output_type": "stream",
     "text": [
      "1\n",
      "A\n",
      "abc\n"
     ]
    }
   ],
   "source": [
    "print(min(3,1,5))\n",
    "print(min(\"ABC\"))\n",
    "print(min(\"abc\",\"xyz\"))"
   ]
  }
 ],
 "metadata": {
  "kernelspec": {
   "display_name": "Python 3",
   "language": "python",
   "name": "python3"
  },
  "language_info": {
   "codemirror_mode": {
    "name": "ipython",
    "version": 3
   },
   "file_extension": ".py",
   "mimetype": "text/x-python",
   "name": "python",
   "nbconvert_exporter": "python",
   "pygments_lexer": "ipython3",
   "version": "3.8.8"
  }
 },
 "nbformat": 4,
 "nbformat_minor": 5
}
