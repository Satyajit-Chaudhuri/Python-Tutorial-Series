{
 "cells": [
  {
   "cell_type": "markdown",
   "id": "991299b2",
   "metadata": {},
   "source": [
    "## How to use python terminal as a calculator"
   ]
  },
  {
   "cell_type": "markdown",
   "id": "a259dbc4",
   "metadata": {},
   "source": [
    "#### Type of Operations in python:\n",
    "  <ul>\n",
    "    <li>Addition\n",
    "    <li>Multiplication\n",
    "    <li>Division\n",
    "    <li>Power/Exponent\n",
    "    <li>Modulo(Remainder) Operation\n",
    "  </ul>"
   ]
  },
  {
   "cell_type": "markdown",
   "id": "9019accb",
   "metadata": {},
   "source": [
    "#### Addition:"
   ]
  },
  {
   "cell_type": "code",
   "execution_count": 1,
   "id": "ba3be9ab",
   "metadata": {},
   "outputs": [
    {
     "data": {
      "text/plain": [
       "559"
      ]
     },
     "execution_count": 1,
     "metadata": {},
     "output_type": "execute_result"
    }
   ],
   "source": [
    "234+325"
   ]
  },
  {
   "cell_type": "markdown",
   "id": "875d4272",
   "metadata": {},
   "source": [
    "#### Multiplication:"
   ]
  },
  {
   "cell_type": "code",
   "execution_count": 2,
   "id": "3660c60c",
   "metadata": {},
   "outputs": [
    {
     "data": {
      "text/plain": [
       "736"
      ]
     },
     "execution_count": 2,
     "metadata": {},
     "output_type": "execute_result"
    }
   ],
   "source": [
    "23 * 32"
   ]
  },
  {
   "cell_type": "markdown",
   "id": "82e05c90",
   "metadata": {},
   "source": [
    "#### Division:"
   ]
  },
  {
   "cell_type": "code",
   "execution_count": 5,
   "id": "b18f1044",
   "metadata": {},
   "outputs": [
    {
     "data": {
      "text/plain": [
       "3"
      ]
     },
     "execution_count": 5,
     "metadata": {},
     "output_type": "execute_result"
    }
   ],
   "source": [
    "10 / 2\n",
    "\n",
    "10/3\n",
    "\n",
    "10 // 3"
   ]
  },
  {
   "cell_type": "markdown",
   "id": "fc3106b5",
   "metadata": {},
   "source": [
    "#### Power/Exponent:"
   ]
  },
  {
   "cell_type": "code",
   "execution_count": 6,
   "id": "fd69b5ea",
   "metadata": {},
   "outputs": [
    {
     "data": {
      "text/plain": [
       "32"
      ]
     },
     "execution_count": 6,
     "metadata": {},
     "output_type": "execute_result"
    }
   ],
   "source": [
    "2 ** 5"
   ]
  },
  {
   "cell_type": "markdown",
   "id": "9dad3f15",
   "metadata": {},
   "source": [
    "#### Modulo(Remainder) Operation:"
   ]
  },
  {
   "cell_type": "code",
   "execution_count": 8,
   "id": "620f7130",
   "metadata": {},
   "outputs": [
    {
     "data": {
      "text/plain": [
       "0"
      ]
     },
     "execution_count": 8,
     "metadata": {},
     "output_type": "execute_result"
    }
   ],
   "source": [
    "10 % 3\n",
    "\n",
    "4 % 2"
   ]
  },
  {
   "cell_type": "markdown",
   "id": "86cec376",
   "metadata": {},
   "source": [
    "<div class = \"alert alert-block alert-info\">\n",
    "<b>Note:</b> Floating point subtractions often give unwanted results which is not accuracte and we get a lot of digits upto approximation. This happens because while converting the floating point numbers to binary they do not have exact binary values.\n",
    "</div>"
   ]
  },
  {
   "cell_type": "markdown",
   "id": "c0bfb489",
   "metadata": {},
   "source": [
    "#### Here is an example of representing 0.1 in binary:\n",
    "\n",
    "`0.10 * 2 = 0.20  # carry 0.20, bin = 0.0 <br>\n",
    "0.20 * 2 = 0.40  # carry 0.40, bin = 0.00 <br>\n",
    "0.40 * 2 = 0.80  # carry 0.80, bin = 0.000 <br>\n",
    "0.80 * 2 = 1.60  # carry 0.60, bin = 0.0001 <br>\n",
    "0.60 * 2 = 1.20  # bin = 0.00011 <br>\n",
    "0.20 * 2 = 0.40  # bin = 0.000110 <br>\n",
    "0.40 * 2 = 0.80  # bin = 0.0001100<br>  ` <br>\n",
    "This continues... So, there is no exact value for this"
   ]
  },
  {
   "cell_type": "code",
   "execution_count": 10,
   "id": "aa22c02d",
   "metadata": {},
   "outputs": [
    {
     "data": {
      "text/plain": [
       "10.000000000000002"
      ]
     },
     "execution_count": 10,
     "metadata": {},
     "output_type": "execute_result"
    }
   ],
   "source": [
    "23.6 - 13.6"
   ]
  },
  {
   "cell_type": "markdown",
   "id": "081e5311",
   "metadata": {},
   "source": [
    "#### The magical `_` variable in python:"
   ]
  },
  {
   "cell_type": "code",
   "execution_count": 13,
   "id": "c8c096cc",
   "metadata": {},
   "outputs": [
    {
     "data": {
      "text/plain": [
       "6"
      ]
     },
     "execution_count": 13,
     "metadata": {},
     "output_type": "execute_result"
    }
   ],
   "source": [
    "2*3"
   ]
  },
  {
   "cell_type": "code",
   "execution_count": 16,
   "id": "d4b07f90",
   "metadata": {},
   "outputs": [],
   "source": [
    "_ = 3"
   ]
  },
  {
   "cell_type": "code",
   "execution_count": 18,
   "id": "89fb15ad",
   "metadata": {},
   "outputs": [
    {
     "data": {
      "text/plain": [
       "6"
      ]
     },
     "execution_count": 18,
     "metadata": {},
     "output_type": "execute_result"
    }
   ],
   "source": [
    "2*3"
   ]
  },
  {
   "cell_type": "code",
   "execution_count": 19,
   "id": "a461c93a",
   "metadata": {},
   "outputs": [
    {
     "name": "stdout",
     "output_type": "stream",
     "text": [
      "3\n"
     ]
    }
   ],
   "source": [
    "print(_)"
   ]
  }
 ],
 "metadata": {
  "kernelspec": {
   "display_name": "Python 3",
   "language": "python",
   "name": "python3"
  },
  "language_info": {
   "codemirror_mode": {
    "name": "ipython",
    "version": 3
   },
   "file_extension": ".py",
   "mimetype": "text/x-python",
   "name": "python",
   "nbconvert_exporter": "python",
   "pygments_lexer": "ipython3",
   "version": "3.8.8"
  }
 },
 "nbformat": 4,
 "nbformat_minor": 5
}
