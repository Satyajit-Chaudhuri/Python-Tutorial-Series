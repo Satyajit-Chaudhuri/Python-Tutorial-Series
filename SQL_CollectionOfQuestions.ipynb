{
  "nbformat": 4,
  "nbformat_minor": 0,
  "metadata": {
    "colab": {
      "provenance": []
    },
    "kernelspec": {
      "name": "python3",
      "display_name": "Python 3"
    },
    "language_info": {
      "name": "python"
    }
  },
  "cells": [
    {
      "cell_type": "markdown",
      "source": [
        "#**SQL**"
      ],
      "metadata": {
        "id": "xR_-cmppgvUw"
      }
    },
    {
      "cell_type": "markdown",
      "source": [
        "Here are some common SQL interview questions that can be solved using BigQuery, along with solutions to each:\n",
        "\n",
        "**1. Query to Find the Second Highest Salary**\n",
        "\n",
        "\n",
        "You may be asked to write a query to find the second-highest salary from an employee table.\n",
        "\n",
        "Solution:"
      ],
      "metadata": {
        "id": "o4t-cGxmaNKh"
      }
    },
    {
      "cell_type": "code",
      "source": [
        "SELECT MAX(salary) AS second_highest_salary\n",
        "FROM `your_project.your_dataset.employees`\n",
        "WHERE salary < (SELECT MAX(salary) FROM `your_project.your_dataset.employees`);\n"
      ],
      "metadata": {
        "id": "jAifmWHkaMUf"
      },
      "execution_count": null,
      "outputs": []
    },
    {
      "cell_type": "markdown",
      "source": [
        "**2. Count of Employees in Each Department**\n",
        "\n",
        "This query groups employees by department and shows the number of employees in each department.\n",
        "\n",
        "Solution:"
      ],
      "metadata": {
        "id": "TN0CSRvfamoE"
      }
    },
    {
      "cell_type": "code",
      "source": [
        "SELECT department, COUNT(employee_id) AS num_employees\n",
        "FROM `your_project.your_dataset.employees`\n",
        "GROUP BY department;\n"
      ],
      "metadata": {
        "id": "Nd91ni7LarDu"
      },
      "execution_count": null,
      "outputs": []
    },
    {
      "cell_type": "markdown",
      "source": [
        "**3. Find Duplicate Records in a Table**\n",
        "\n",
        "If you need to find duplicate rows in a table based on specific columns."
      ],
      "metadata": {
        "id": "EKy9bDqJat9F"
      }
    },
    {
      "cell_type": "code",
      "source": [
        "SELECT employee_id, name, COUNT(*) AS count\n",
        "FROM `your_project.your_dataset.employees`\n",
        "GROUP BY employee_id, name\n",
        "HAVING COUNT(*) > 1;\n"
      ],
      "metadata": {
        "id": "Bw5-eiRIauXt"
      },
      "execution_count": null,
      "outputs": []
    },
    {
      "cell_type": "markdown",
      "source": [
        "**4. Get Employees Who Earn More Than the Average Salary**\n",
        "\n",
        "This query lists employees whose salary is above the average salary.\n",
        "\n",
        "Solution:"
      ],
      "metadata": {
        "id": "z_EumjHGa1pi"
      }
    },
    {
      "cell_type": "code",
      "source": [
        "SELECT employee_id, name, salary\n",
        "FROM `your_project.your_dataset.employees`\n",
        "WHERE salary > (SELECT AVG(salary) FROM `your_project.your_dataset.employees`);\n"
      ],
      "metadata": {
        "id": "N9diiGfNa2i2"
      },
      "execution_count": null,
      "outputs": []
    },
    {
      "cell_type": "markdown",
      "source": [
        "**5. Query to Rank Employees Based on Salary**\n",
        "\n",
        "Here, the RANK() window function is used to rank employees by their salary in descending order."
      ],
      "metadata": {
        "id": "f75BCnl2a_de"
      }
    },
    {
      "cell_type": "code",
      "source": [
        "SELECT\n",
        "  employee_id,\n",
        "  name,\n",
        "  salary,\n",
        "  RANK() OVER (ORDER BY salary DESC) AS salary_rank\n",
        "FROM `your_project.your_dataset.employees`;\n"
      ],
      "metadata": {
        "id": "7BDzTR0DbFX5"
      },
      "execution_count": null,
      "outputs": []
    },
    {
      "cell_type": "markdown",
      "source": [
        "**6. Find the Department with the Highest Average Salary**\n",
        "\n",
        "This query helps find which department has the highest average salary.\n",
        "\n",
        "Solution:"
      ],
      "metadata": {
        "id": "u59DHAMdbIur"
      }
    },
    {
      "cell_type": "code",
      "source": [
        "SELECT department, AVG(salary) AS avg_salary\n",
        "FROM `your_project.your_dataset.employees`\n",
        "GROUP BY department\n",
        "ORDER BY avg_salary DESC\n",
        "LIMIT 1;\n"
      ],
      "metadata": {
        "id": "lWcm4DTybH6L"
      },
      "execution_count": null,
      "outputs": []
    },
    {
      "cell_type": "markdown",
      "source": [
        "**7. Find Employees Who Joined in the Last 6 Months**\n",
        "\n",
        "This query selects employees who joined the company within the last six months.\n",
        "\n",
        "Solution:"
      ],
      "metadata": {
        "id": "XtYWM9tmbPcK"
      }
    },
    {
      "cell_type": "code",
      "source": [
        "SELECT employee_id, name, hire_date\n",
        "FROM `your_project.your_dataset.employees`\n",
        "WHERE hire_date > DATE_SUB(CURRENT_DATE(), INTERVAL 6 MONTH);\n"
      ],
      "metadata": {
        "id": "maRljexpbPFw"
      },
      "execution_count": null,
      "outputs": []
    },
    {
      "cell_type": "markdown",
      "source": [
        "**8. Join Two Tables (Employees and Departments)**\n",
        "\n",
        "A common question is to join two tables, such as employees and departments.\n",
        "\n",
        "Solution:"
      ],
      "metadata": {
        "id": "N4-ml40ubVQm"
      }
    },
    {
      "cell_type": "code",
      "source": [
        "SELECT\n",
        "  e.employee_id,\n",
        "  e.name,\n",
        "  d.department_name\n",
        "FROM `your_project.your_dataset.employees` e\n",
        "JOIN `your_project.your_dataset.departments` d\n",
        "ON e.department_id = d.department_id;\n"
      ],
      "metadata": {
        "id": "UV0lC-HlbY20"
      },
      "execution_count": null,
      "outputs": []
    },
    {
      "cell_type": "markdown",
      "source": [
        "**9. Aggregate Functions: Get the Total, Minimum, Maximum, and Average Salary**\n",
        "\n",
        "This query demonstrates the use of aggregate functions to calculate total, minimum, maximum, and average salaries.\n",
        "\n",
        "Solution:"
      ],
      "metadata": {
        "id": "pUtu8NW4bcj3"
      }
    },
    {
      "cell_type": "code",
      "source": [
        "SELECT\n",
        "  SUM(salary) AS total_salary,\n",
        "  MIN(salary) AS min_salary,\n",
        "  MAX(salary) AS max_salary,\n",
        "  AVG(salary) AS avg_salary\n",
        "FROM `your_project.your_dataset.employees`;\n"
      ],
      "metadata": {
        "id": "AaABDVDGbcSU"
      },
      "execution_count": null,
      "outputs": []
    },
    {
      "cell_type": "markdown",
      "source": [
        "**10. Find Top 3 Highest Paid Employees in Each Department**\n",
        "\n",
        "Using window functions like ROW_NUMBER() to find the top 3 highest-paid employees in each department."
      ],
      "metadata": {
        "id": "MMMhjDaMbjAP"
      }
    },
    {
      "cell_type": "code",
      "source": [
        "WITH ranked_employees AS (\n",
        "  SELECT\n",
        "    employee_id,\n",
        "    name,\n",
        "    salary,\n",
        "    department,\n",
        "    ROW_NUMBER() OVER (PARTITION BY department ORDER BY salary DESC) AS rank\n",
        "  FROM `your_project.your_dataset.employees`\n",
        ")\n",
        "SELECT\n",
        "  employee_id,\n",
        "  name,\n",
        "  salary,\n",
        "  department\n",
        "FROM ranked_employees\n",
        "WHERE rank <= 3;\n"
      ],
      "metadata": {
        "id": "6_zIbv_FbnBK"
      },
      "execution_count": null,
      "outputs": []
    },
    {
      "cell_type": "markdown",
      "source": [
        "Key Interview Concepts Tested:\n",
        "- Aggregate Functions: Functions like COUNT(), SUM(), AVG(), MIN(), and MAX() are widely used to solve real-world problems.\n",
        "\n",
        "- Window Functions: RANK(), ROW_NUMBER(), and DENSE_RANK() are commonly used in interview questions for ranking and partitioning data.\n",
        "\n",
        "- Subqueries: Questions involving subqueries, such as finding the second-highest salary or using a subquery to calculate an average, are often asked.\n",
        "\n",
        "- Joins: You will often be asked to join tables, so it’s crucial to understand different types of joins like INNER JOIN, LEFT JOIN, etc.\n",
        "\n",
        "- Date Functions: Handling date-related queries like calculating the difference between dates or filtering based on date ranges is important.\n",
        "\n",
        "- GROUP BY and HAVING: Mastery of grouping data and applying filters to aggregated results is important in interviews."
      ],
      "metadata": {
        "id": "vWMhDkFnbpqR"
      }
    },
    {
      "cell_type": "markdown",
      "source": [
        "**11. Creating and Using a View**\n",
        "\n",
        "A view is a saved SQL query that you can treat like a table. You can query it or join it with other tables.\n",
        "\n",
        "Example:"
      ],
      "metadata": {
        "id": "tgty7ljlb3pZ"
      }
    },
    {
      "cell_type": "code",
      "source": [
        "-- Creating a view to show average salary per department\n",
        "CREATE OR REPLACE VIEW `your_project.your_dataset.avg_salary_view` AS\n",
        "SELECT\n",
        "  department,\n",
        "  AVG(salary) AS avg_salary\n",
        "FROM\n",
        "  `your_project.your_dataset.employees`\n",
        "GROUP BY\n",
        "  department;\n",
        "\n",
        "-- Querying the view\n",
        "SELECT * FROM `your_project.your_dataset.avg_salary_view`\n",
        "WHERE avg_salary > 50000;\n"
      ],
      "metadata": {
        "id": "naINgoLwbo-J"
      },
      "execution_count": null,
      "outputs": []
    },
    {
      "cell_type": "markdown",
      "source": [
        "**12. Using Window Functions**\n",
        "\n",
        "Window functions operate on a set of rows and return a single value for each row from the underlying query. Some common window functions are RANK(), ROW_NUMBER(), LAG(), LEAD(), and SUM().\n",
        "\n",
        "Example: Using ROW_NUMBER()"
      ],
      "metadata": {
        "id": "fNsEBHJzb9OW"
      }
    },
    {
      "cell_type": "code",
      "source": [
        "-- Rank employees within each department by salary\n",
        "SELECT\n",
        "  employee_id,\n",
        "  name,\n",
        "  department,\n",
        "  salary,\n",
        "  ROW_NUMBER() OVER (PARTITION BY department ORDER BY salary DESC) AS salary_rank\n",
        "FROM\n",
        "  `your_project.your_dataset.employees`\n",
        "ORDER BY department, salary_rank;\n"
      ],
      "metadata": {
        "id": "vlSElvsJbo68"
      },
      "execution_count": null,
      "outputs": []
    },
    {
      "cell_type": "markdown",
      "source": [
        "Example: Using LAG()\n",
        "\n",
        "The LAG() function allows you to access data from the previous row within the result set."
      ],
      "metadata": {
        "id": "uBSsRT3wcF_x"
      }
    },
    {
      "cell_type": "code",
      "source": [
        "-- Compare each employee's salary with the previous employee in the same department\n",
        "SELECT\n",
        "  employee_id,\n",
        "  name,\n",
        "  department,\n",
        "  salary,\n",
        "  LAG(salary) OVER (PARTITION BY department ORDER BY salary) AS previous_salary\n",
        "FROM\n",
        "  `your_project.your_dataset.employees`;\n"
      ],
      "metadata": {
        "id": "38g0G1nCcKaV"
      },
      "execution_count": null,
      "outputs": []
    },
    {
      "cell_type": "markdown",
      "source": [
        "Example: Using SUM() Over a Window"
      ],
      "metadata": {
        "id": "kqxw14I1cX28"
      }
    },
    {
      "cell_type": "code",
      "source": [
        "-- Calculate the cumulative total salary for each employee, ordered by salary\n",
        "SELECT\n",
        "  employee_id,\n",
        "  name,\n",
        "  salary,\n",
        "  SUM(salary) OVER (ORDER BY salary) AS cumulative_salary\n",
        "FROM\n",
        "  `your_project.your_dataset.employees`;\n"
      ],
      "metadata": {
        "id": "iTGX4OM5caZ5"
      },
      "execution_count": null,
      "outputs": []
    },
    {
      "cell_type": "markdown",
      "source": [
        "**13. Common Table Expressions (CTE)**\n",
        "\n",
        "CTEs are temporary result sets that are defined within the execution of a single query and can be referenced later in that query.\n",
        "\n",
        "Example"
      ],
      "metadata": {
        "id": "yUhsiZY8cfTh"
      }
    },
    {
      "cell_type": "code",
      "source": [
        "-- Using CTEs to calculate total department salaries and average salaries in a single query\n",
        "WITH dept_salary AS (\n",
        "  SELECT\n",
        "    department,\n",
        "    SUM(salary) AS total_salary,\n",
        "    AVG(salary) AS avg_salary\n",
        "  FROM\n",
        "    `your_project.your_dataset.employees`\n",
        "  GROUP BY\n",
        "    department\n",
        ")\n",
        "SELECT\n",
        "  department,\n",
        "  total_salary,\n",
        "  avg_salary\n",
        "FROM\n",
        "  dept_salary\n",
        "WHERE\n",
        "  avg_salary > 50000;\n"
      ],
      "metadata": {
        "id": "uI3td8urckEp"
      },
      "execution_count": null,
      "outputs": []
    },
    {
      "cell_type": "markdown",
      "source": [
        "**14. Recursive CTE**\n",
        "\n",
        "Recursive CTEs are useful for hierarchical data like organizational structures or parent-child relationships.\n",
        "\n",
        "Example:"
      ],
      "metadata": {
        "id": "nZrv6IghcmOe"
      }
    },
    {
      "cell_type": "code",
      "source": [
        "-- Recursive CTE to get employee hierarchy based on manager relationships\n",
        "WITH RECURSIVE employee_hierarchy AS (\n",
        "  -- Base case\n",
        "  SELECT\n",
        "    employee_id,\n",
        "    name,\n",
        "    manager_id,\n",
        "    0 AS level\n",
        "  FROM\n",
        "    `your_project.your_dataset.employees`\n",
        "  WHERE\n",
        "    manager_id IS NULL\n",
        "\n",
        "  UNION ALL\n",
        "\n",
        "  -- Recursive case\n",
        "  SELECT\n",
        "    e.employee_id,\n",
        "    e.name,\n",
        "    e.manager_id,\n",
        "    eh.level + 1 AS level\n",
        "  FROM\n",
        "    `your_project.your_dataset.employees` e\n",
        "  JOIN\n",
        "    employee_hierarchy eh\n",
        "  ON\n",
        "    e.manager_id = eh.employee_id\n",
        ")\n",
        "\n",
        "SELECT * FROM employee_hierarchy;\n"
      ],
      "metadata": {
        "id": "AMJuHwrbcq2d"
      },
      "execution_count": null,
      "outputs": []
    },
    {
      "cell_type": "markdown",
      "source": [
        "**15. Using ARRAY_AGG() to Create Arrays**\n",
        "\n",
        "The ARRAY_AGG() function aggregates data into an array.\n",
        "\n",
        "Example:"
      ],
      "metadata": {
        "id": "8K--i2WTcuDv"
      }
    },
    {
      "cell_type": "code",
      "source": [
        "-- Get a list of employees in each department as an array\n",
        "SELECT\n",
        "  department,\n",
        "  ARRAY_AGG(name) AS employee_list\n",
        "FROM\n",
        "  `your_project.your_dataset.employees`\n",
        "GROUP BY\n",
        "  department;\n"
      ],
      "metadata": {
        "id": "31TCV_P0ctly"
      },
      "execution_count": null,
      "outputs": []
    },
    {
      "cell_type": "markdown",
      "source": [
        "**16. Pivoting Data**\n",
        "\n",
        "BigQuery doesn't have a built-in PIVOT function, but you can use conditional aggregation to achieve similar results.\n",
        "\n",
        "Example:"
      ],
      "metadata": {
        "id": "b4aM3hcWctM1"
      }
    },
    {
      "cell_type": "code",
      "source": [
        "-- Pivot employee data by department to show counts of employees by department\n",
        "SELECT\n",
        "  COUNTIF(department = 'Sales') AS sales_count,\n",
        "  COUNTIF(department = 'Engineering') AS engineering_count,\n",
        "  COUNTIF(department = 'HR') AS hr_count\n",
        "FROM\n",
        "  `your_project.your_dataset.employees`;\n"
      ],
      "metadata": {
        "id": "gn6Qww9uc6EO"
      },
      "execution_count": null,
      "outputs": []
    },
    {
      "cell_type": "markdown",
      "source": [
        "**17. UNNEST Function for Arrays**\n",
        "\n",
        "BigQuery supports arrays as a data type, and the UNNEST() function allows you to convert an array into a set of rows.\n",
        "\n",
        "Example:"
      ],
      "metadata": {
        "id": "RtyXKnKIc8ZE"
      }
    },
    {
      "cell_type": "code",
      "source": [
        "-- Create an array and then use UNNEST() to break it into rows\n",
        "WITH employee_data AS (\n",
        "  SELECT\n",
        "    ARRAY<STRUCT<employee_id INT64, name STRING>>[\n",
        "      (1, 'John'),\n",
        "      (2, 'Jane'),\n",
        "      (3, 'Alice')\n",
        "    ] AS employees\n",
        ")\n",
        "\n",
        "SELECT\n",
        "  employee_id,\n",
        "  name\n",
        "FROM\n",
        "  employee_data,\n",
        "  UNNEST(employees);\n"
      ],
      "metadata": {
        "id": "27SklBoIc_6p"
      },
      "execution_count": null,
      "outputs": []
    },
    {
      "cell_type": "markdown",
      "source": [
        "**18. USING QUALIFY Clause**\n",
        "\n",
        "In BigQuery, you can use the QUALIFY clause to filter results from a window function.\n",
        "\n",
        "Example:"
      ],
      "metadata": {
        "id": "DKoVmokLdB9l"
      }
    },
    {
      "cell_type": "code",
      "source": [
        "-- Get the highest salary employee per department\n",
        "SELECT\n",
        "  employee_id,\n",
        "  name,\n",
        "  salary,\n",
        "  department,\n",
        "  RANK() OVER (PARTITION BY department ORDER BY salary DESC) AS salary_rank\n",
        "FROM\n",
        "  `your_project.your_dataset.employees`\n",
        "QUALIFY salary_rank = 1;\n"
      ],
      "metadata": {
        "id": "cQ5RIGRydJoy"
      },
      "execution_count": null,
      "outputs": []
    },
    {
      "cell_type": "markdown",
      "source": [
        "**19. Regular Expressions (REGEXP_CONTAINS, REGEXP_EXTRACT)**\n",
        "\n",
        "BigQuery provides built-in functions for regular expression matching.\n",
        "\n",
        "Example: Using REGEXP_CONTAINS()"
      ],
      "metadata": {
        "id": "qLgD6CkAdM1T"
      }
    },
    {
      "cell_type": "code",
      "source": [
        "-- Find employees whose names start with 'A'\n",
        "SELECT\n",
        "  employee_id,\n",
        "  name\n",
        "FROM\n",
        "  `your_project.your_dataset.employees`\n",
        "WHERE\n",
        "  REGEXP_CONTAINS(name, r'^A');\n"
      ],
      "metadata": {
        "id": "xm5Sm5UqdMYD"
      },
      "execution_count": null,
      "outputs": []
    },
    {
      "cell_type": "markdown",
      "source": [
        "Example: Using REGEXP_EXTRACT()"
      ],
      "metadata": {
        "id": "cEUinefFdVoM"
      }
    },
    {
      "cell_type": "code",
      "source": [
        "-- Extract domain names from email addresses\n",
        "SELECT\n",
        "  email,\n",
        "  REGEXP_EXTRACT(email, r'@(.+)$') AS domain\n",
        "FROM\n",
        "  `your_project.your_dataset.employees`;\n"
      ],
      "metadata": {
        "id": "6hCGuxswdYxY"
      },
      "execution_count": null,
      "outputs": []
    },
    {
      "cell_type": "markdown",
      "source": [
        "**20. JSON Functions**\n",
        "\n",
        "BigQuery provides functions to work with JSON data.\n",
        "\n",
        "Example: Parsing JSON Data"
      ],
      "metadata": {
        "id": "cwgtlaV5dagM"
      }
    },
    {
      "cell_type": "code",
      "source": [
        "-- Extract fields from a JSON object\n",
        "SELECT\n",
        "  JSON_EXTRACT_SCALAR(json_column, '$.name') AS name,\n",
        "  JSON_EXTRACT_SCALAR(json_column, '$.age') AS age\n",
        "FROM\n",
        "  `your_project.your_dataset.employee_json_table`;\n"
      ],
      "metadata": {
        "id": "ZZtmW8rGdi8q"
      },
      "execution_count": null,
      "outputs": []
    },
    {
      "cell_type": "markdown",
      "source": [
        "**Key Advanced SQL Concepts Covered:**\n",
        "- Views: To create reusable queries that act like tables.\n",
        "- Window Functions: To perform row-by-row calculations such as ranking, cumulative totals, and comparisons between rows.\n",
        "- CTEs (Common Table Expressions): Useful for breaking complex queries into simpler steps.\n",
        "- Recursive CTEs: Handle hierarchical data or recursive relationships.\n",
        "- Array Functions: Working with arrays and using functions like ARRAY_AGG() and UNNEST().\n",
        "- Pivoting: Achieving pivot table-like operations using conditional aggregation.\n",
        "- Regular Expressions: Extracting and matching patterns in strings.\n",
        "- JSON Functions: Handling and parsing JSON data.\n",
        "These concepts are common in SQL interview questions for advanced roles such as data engineers, data scientists, and database architects. Practicing these queries will help you confidently handle advanced SQL questions in interviews."
      ],
      "metadata": {
        "id": "ebeU6A9-dkvt"
      }
    },
    {
      "cell_type": "markdown",
      "source": [
        "**1. Question: Find the Running Total (Cumulative Sum)**\n",
        "\n",
        "You are given a table of daily sales data. Write a query to calculate the running total of sales for each day."
      ],
      "metadata": {
        "id": "bRxYAeqjd48D"
      }
    },
    {
      "cell_type": "code",
      "source": [
        "SELECT\n",
        "  date,\n",
        "  sales,\n",
        "  SUM(sales) OVER (ORDER BY date) AS running_total_sales\n",
        "FROM\n",
        "  `your_project.your_dataset.sales_data`\n",
        "ORDER BY\n",
        "  date;\n"
      ],
      "metadata": {
        "id": "SE32J6hedxnm"
      },
      "execution_count": null,
      "outputs": []
    },
    {
      "cell_type": "markdown",
      "source": [
        "**Explanation:**\n",
        "Window Function (SUM() OVER) is used to calculate the cumulative sum of sales ordered by the date column.\n",
        "\n",
        "**2. Question: Find the Nth Highest Salary**\n",
        "\n",
        "Write a query to find the Nth highest salary in the employees table.\n",
        "\n",
        "Solution:"
      ],
      "metadata": {
        "id": "2s7Iqxy1d9Cb"
      }
    },
    {
      "cell_type": "code",
      "source": [
        "WITH ranked_salaries AS (\n",
        "  SELECT\n",
        "    salary,\n",
        "    DENSE_RANK() OVER (ORDER BY salary DESC) AS rank\n",
        "  FROM\n",
        "    `your_project.your_dataset.employees`\n",
        ")\n",
        "SELECT\n",
        "  salary\n",
        "FROM\n",
        "  ranked_salaries\n",
        "WHERE\n",
        "  rank = N;  -- Replace N with the value you're looking for\n"
      ],
      "metadata": {
        "id": "G-LaIfC-eD5T"
      },
      "execution_count": null,
      "outputs": []
    },
    {
      "cell_type": "markdown",
      "source": [
        "**Explanation:**\n",
        "\n",
        "**Window Function (DENSE_RANK())** assigns a rank to each salary. This query retrieves the salary that corresponds to the Nth rank.\n",
        "\n",
        "**3. Question:** Get the Employee with the Highest Salary in Each Department\n",
        "Find the employee with the highest salary in each department.\n",
        "\n",
        "Solution:"
      ],
      "metadata": {
        "id": "5AsLFGvBeIIJ"
      }
    },
    {
      "cell_type": "code",
      "source": [
        "WITH department_salary_ranks AS (\n",
        "  SELECT\n",
        "    employee_id,\n",
        "    name,\n",
        "    department,\n",
        "    salary,\n",
        "    RANK() OVER (PARTITION BY department ORDER BY salary DESC) AS salary_rank\n",
        "  FROM\n",
        "    `your_project.your_dataset.employees`\n",
        ")\n",
        "SELECT\n",
        "  employee_id,\n",
        "  name,\n",
        "  department,\n",
        "  salary\n",
        "FROM\n",
        "  department_salary_ranks\n",
        "WHERE\n",
        "  salary_rank = 1;\n"
      ],
      "metadata": {
        "id": "1G3cdaCnePWW"
      },
      "execution_count": null,
      "outputs": []
    },
    {
      "cell_type": "markdown",
      "source": [
        "**Explanation:**\n",
        "\n",
        "**The RANK() window function** partitions the data by department and ranks employees based on their salary. The query selects employees with the highest rank (i.e., salary rank = 1).\n",
        "\n",
        "**4. Question: Find Employees with More than One Manager**\n",
        "\n",
        "In a company’s hierarchy, some employees report to more than one manager. Write a query to find employees who report to more than one manager.\n",
        "\n",
        "Solution:"
      ],
      "metadata": {
        "id": "szf6zSvZeRg8"
      }
    },
    {
      "cell_type": "code",
      "source": [
        "SELECT\n",
        "  employee_id,\n",
        "  COUNT(manager_id) AS num_managers\n",
        "FROM\n",
        "  `your_project.your_dataset.employee_manager`\n",
        "GROUP BY\n",
        "  employee_id\n",
        "HAVING\n",
        "  COUNT(manager_id) > 1;\n"
      ],
      "metadata": {
        "id": "QPtwh2mCeZRj"
      },
      "execution_count": null,
      "outputs": []
    },
    {
      "cell_type": "markdown",
      "source": [
        "**Explanation:**\n",
        "\n",
        "This query groups employees by employee_id and counts the number of manager_id assigned to each employee. The HAVING clause filters out employees with more than one manager.\n",
        "\n",
        "**5. Question: Calculate Moving Average of Sales Over a 7-Day Window**\n",
        "Write a query to calculate the 7-day moving average of sales.\n",
        "\n",
        "Solution:"
      ],
      "metadata": {
        "id": "ACkuTT1Xedpe"
      }
    },
    {
      "cell_type": "code",
      "source": [
        "SELECT\n",
        "  date,\n",
        "  sales,\n",
        "  AVG(sales) OVER (ORDER BY date ROWS BETWEEN 6 PRECEDING AND CURRENT ROW) AS moving_avg_sales\n",
        "FROM\n",
        "  `your_project.your_dataset.sales_data`\n",
        "ORDER BY\n",
        "  date;\n"
      ],
      "metadata": {
        "id": "VnQT-XgCekXH"
      },
      "execution_count": null,
      "outputs": []
    },
    {
      "cell_type": "markdown",
      "source": [
        "**Explanation:**\n",
        "**ROWS BETWEEN 6 PRECEDING AND CURRENT ROW** specifies the 7-day window (including the current row) for calculating the moving average of sales.\n",
        "\n",
        "**6. Question: Detect Gaps in Date Ranges**\n",
        "\n",
        "You are given a table with date ranges for active subscriptions. Write a query to detect gaps between subscriptions.\n",
        "\n",
        "Solution:"
      ],
      "metadata": {
        "id": "6iwRqvrQenjK"
      }
    },
    {
      "cell_type": "code",
      "source": [
        "SELECT\n",
        "  user_id,\n",
        "  end_date,\n",
        "  LEAD(start_date) OVER (PARTITION BY user_id ORDER BY start_date) AS next_start_date\n",
        "FROM\n",
        "  `your_project.your_dataset.subscriptions`\n",
        "WHERE\n",
        "  DATE_DIFF(LEAD(start_date) OVER (PARTITION BY user_id ORDER BY start_date), end_date, DAY) > 0;\n"
      ],
      "metadata": {
        "id": "sx3Wh_zuenO9"
      },
      "execution_count": null,
      "outputs": []
    },
    {
      "cell_type": "markdown",
      "source": [
        "**Explanation:**\n",
        "LEAD() is used to get the next subscription’s start date for each user, and DATE_DIFF() calculates the difference between the current subscription’s end date and the next subscription’s start date.\n",
        "\n",
        "The WHERE clause filters rows where there’s a gap between subscriptions.\n",
        "\n",
        "**7. Question: Find Consecutive Streaks of Days with Sales**\n",
        "\n",
        "Write a query to find periods of consecutive days with sales greater than a certain threshold.\n",
        "\n",
        "Solution:"
      ],
      "metadata": {
        "id": "enGVm-opeyyw"
      }
    },
    {
      "cell_type": "code",
      "source": [
        "WITH ranked_sales AS (\n",
        "  SELECT\n",
        "    date,\n",
        "    sales,\n",
        "    sales > 1000 AS above_threshold,\n",
        "    DATE_DIFF(date, LAG(date) OVER (ORDER BY date), DAY) AS days_difference\n",
        "  FROM\n",
        "    `your_project.your_dataset.sales_data`\n",
        "),\n",
        "streaks AS (\n",
        "  SELECT\n",
        "    date,\n",
        "    SUM(CASE WHEN days_difference > 1 OR days_difference IS NULL THEN 1 ELSE 0 END)\n",
        "    OVER (ORDER BY date) AS streak_id\n",
        "  FROM\n",
        "    ranked_sales\n",
        "  WHERE above_threshold = TRUE\n",
        ")\n",
        "SELECT\n",
        "  streak_id,\n",
        "  MIN(date) AS streak_start,\n",
        "  MAX(date) AS streak_end,\n",
        "  COUNT(*) AS streak_length\n",
        "FROM\n",
        "  streaks\n",
        "GROUP BY\n",
        "  streak_id;\n"
      ],
      "metadata": {
        "id": "G28zGAPIe4dm"
      },
      "execution_count": null,
      "outputs": []
    },
    {
      "cell_type": "markdown",
      "source": [
        "**Explanation:**\n",
        "The first CTE (ranked_sales) checks if sales are above a certain threshold and calculates the difference between consecutive days.\n",
        "The second CTE (streaks) uses a cumulative sum to assign a unique streak_id for each streak of consecutive days.\n",
        "The final query groups by streak_id to get the start and end of each streak.\n",
        "\n",
        "**8. Question:** Find All the Employees Who Have the Same Salary as Their Manager\n",
        "Given an employee-manager hierarchy, find employees who have the same salary as their manager.\n",
        "\n",
        "Solution:"
      ],
      "metadata": {
        "id": "2yLNEgBPe9Fl"
      }
    },
    {
      "cell_type": "code",
      "source": [
        "SELECT\n",
        "  e.employee_id,\n",
        "  e.name AS employee_name,\n",
        "  m.name AS manager_name,\n",
        "  e.salary\n",
        "FROM\n",
        "  `your_project.your_dataset.employees` e\n",
        "JOIN\n",
        "  `your_project.your_dataset.employees` m\n",
        "ON\n",
        "  e.manager_id = m.employee_id\n",
        "WHERE\n",
        "  e.salary = m.salary;\n"
      ],
      "metadata": {
        "id": "3GYqjlwIfFtM"
      },
      "execution_count": null,
      "outputs": []
    },
    {
      "cell_type": "markdown",
      "source": [
        "**Explanation:**\n",
        "This query joins the employees table with itself to match each employee with their manager, then filters for employees whose salary is the same as their manager’s salary.\n",
        "\n",
        "**9. Question: Rank Salespeople by Performance in Each Quarter**\n",
        "Rank salespeople by their total sales in each quarter.\n",
        "\n",
        "Solution:"
      ],
      "metadata": {
        "id": "l9s_08-3fJo7"
      }
    },
    {
      "cell_type": "code",
      "source": [
        "SELECT\n",
        "  salesperson_id,\n",
        "  QUARTER(date) AS quarter,\n",
        "  SUM(sales) AS total_sales,\n",
        "  RANK() OVER (PARTITION BY QUARTER(date) ORDER BY SUM(sales) DESC) AS sales_rank\n",
        "FROM\n",
        "  `your_project.your_dataset.sales_data`\n",
        "GROUP BY\n",
        "  salesperson_id, QUARTER(date);\n"
      ],
      "metadata": {
        "id": "j0imCQNbfMP2"
      },
      "execution_count": null,
      "outputs": []
    },
    {
      "cell_type": "markdown",
      "source": [
        "**Explanation:**\n",
        "RANK() OVER (PARTITION BY QUARTER(date)) calculates the sales rank for each salesperson within each quarter, based on the total sales in that quarter.\n",
        "\n",
        "**10. Question: Find Products Purchased Together**\n",
        "\n",
        "You are given a table of orders, where each order has multiple products. Write a query to find products that are frequently purchased together.\n",
        "\n",
        "Solution:"
      ],
      "metadata": {
        "id": "QzWRv5cFfOji"
      }
    },
    {
      "cell_type": "code",
      "source": [
        "WITH product_pairs AS (\n",
        "  SELECT\n",
        "    o1.product_id AS product_1,\n",
        "    o2.product_id AS product_2,\n",
        "    COUNT(*) AS num_orders\n",
        "  FROM\n",
        "    `your_project.your_dataset.orders` o1\n",
        "  JOIN\n",
        "    `your_project.your_dataset.orders` o2\n",
        "  ON\n",
        "    o1.order_id = o2.order_id AND o1.product_id < o2.product_id\n",
        "  GROUP BY\n",
        "    product_1, product_2\n",
        ")\n",
        "SELECT\n",
        "  product_1,\n",
        "  product_2,\n",
        "  num_orders\n",
        "FROM\n",
        "  product_pairs\n",
        "WHERE\n",
        "  num_orders > 10  -- Threshold for frequent pairs\n",
        "ORDER BY\n",
        "  num_orders DESC;\n"
      ],
      "metadata": {
        "id": "4up3s0zQfVap"
      },
      "execution_count": null,
      "outputs": []
    },
    {
      "cell_type": "markdown",
      "source": [
        "**Explanation:**\n",
        "\n",
        "The query performs a self-join on the orders table to pair products within the same order and counts how often each pair of products is purchased together.\n",
        "The WHERE clause filters for frequently purchased pairs (e.g., more than 10 orders).\n",
        "\n",
        "**Key Concepts Tested in These Questions:**\n",
        "- Window Functions: Used extensively in ranking, cumulative calculations, and identifying gaps or streaks in data.\n",
        "Common Table Expressions (CTEs): To break complex queries into manageable steps.\n",
        "- Joins: Both self-joins and standard joins are often used in these advanced queries.\n",
        "- Date and Time Functions: For calculating differences between dates and analyzing temporal patterns (like quarterly performance).\n",
        "- Recursive Logic: Handling hierarchies or recursive relationships.\n",
        "- Aggregation with Conditional Logic: For detecting patterns like product purchases and sales streaks.\n",
        "\n",
        "These questions are designed to test both SQL proficiency and a deep understanding of analytical problems, which are critical for lead data scientist roles.\n",
        "\n",
        "\n",
        "\n",
        "**1. Explain the Difference Between INNER JOIN and LEFT JOIN.**\n",
        "\n",
        "INNER JOIN: Returns only the rows where there is a match in both tables.\n",
        "LEFT JOIN: Returns all rows from the left table and the matched rows from the right table. If there's no match, the result is NULL on the side of the right table.\n",
        "\n",
        "**2. What Are ACID Properties in SQL?**\n",
        "\n",
        "ACID stands for Atomicity, Consistency, Isolation, and Durability. These properties ensure reliable processing of database transactions:\n",
        "\n",
        "- Atomicity: Ensures that all operations within a transaction are completed successfully; if not, the transaction is aborted.\n",
        "- Consistency: Ensures that a transaction brings the database from one valid state to another, maintaining database invariants.\n",
        "- Isolation: Ensures that the operations of a transaction are isolated from other transactions.\n",
        "- Durability: Ensures that once a transaction is committed, it will remain so, even in the event of a system failure.\n",
        "\n",
        "**3. What Is the Difference Between UNION and UNION ALL?**\n",
        "\n",
        "- UNION: Combines the results of two queries and removes duplicate rows.\n",
        "- UNION ALL: Combines the results of two queries without removing duplicates.\n",
        "\n",
        "**4. What Is Normalization? Explain Its Different Forms.**\n",
        "\n",
        "Normalization is the process of organizing data to reduce redundancy and improve data integrity. The normal forms include:\n",
        "\n",
        "- 1NF (First Normal Form): Ensures that the table has only atomic (indivisible) values and each record is unique.\n",
        "- 2NF (Second Normal Form): Achieved by meeting 1NF and ensuring that all non-key attributes are fully functionally dependent on the primary key.\n",
        "- 3NF (Third Normal Form): Achieved by meeting 2NF and ensuring that all attributes are functionally dependent only on the primary key.\n",
        "- BCNF (Boyce-Codd Normal Form): A stricter version of 3NF where every determinant is a candidate key.\n",
        "\n",
        "**5. What Are Indexes in SQL? Explain Their Types.**\n",
        "\n",
        "Indexes are database objects that improve the speed of data retrieval operations on a table at the cost of additional space and maintenance overhead. Types include:\n",
        "\n",
        "- Clustered Index: Determines the physical order of data in the table; there can be only one clustered index per table.\n",
        "- Non-Clustered Index: Creates a separate object from the data table that points to the data; multiple non-clustered indexes can exist on a table.\n",
        "\n",
        "**6. What Is the Difference Between DELETE and TRUNCATE Commands?**\n",
        "\n",
        "- DELETE: Removes rows from a table based on a condition; it is a DML command and can be rolled back.\n",
        "- TRUNCATE: Removes all rows from a table; it is a DDL command and cannot be rolled back.\n",
        "\n",
        "**7. What Is a Subquery? Explain Its Types.**\n",
        "\n",
        "A subquery is a query nested inside another query. Types include:\n",
        "\n",
        "- Single-Row Subquery: Returns a single row and is used with operators like =, <, >, etc.\n",
        "- Multiple-Row Subquery: Returns multiple rows and is used with operators like IN, ANY, ALL.\n",
        "- Multiple-Column Subquery: Returns multiple columns and is used with operators like IN with multiple columns.\n",
        "\n",
        "**8. What Is a View in SQL?**\n",
        "\n",
        "A view is a virtual table based on the result set of a SQL query. It can simplify complex queries, enhance security by restricting access to specific data, and provide a consistent interface to the data.\n",
        "\n",
        "**9. What Is the Difference Between DDL and DML?**\n",
        "\n",
        "- DDL (Data Definition Language): Includes commands like CREATE, ALTER, DROP that define and modify database structures.\n",
        "- DML (Data Manipulation Language): Includes commands like SELECT, INSERT, UPDATE, DELETE that manage data within schema objects.\n",
        "\n",
        "**10. What Is a Transaction in SQL?**\n",
        "\n",
        "A transaction is a sequence of one or more SQL operations executed as a single unit. Transactions ensure data integrity and follow the ACID properties."
      ],
      "metadata": {
        "id": "nMsRBZc9fgsr"
      }
    }
  ]
}